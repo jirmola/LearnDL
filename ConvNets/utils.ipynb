{
 "cells": [
  {
   "cell_type": "code",
   "execution_count": 64,
   "metadata": {
    "collapsed": true
   },
   "outputs": [],
   "source": [
    "import numpy as np"
   ]
  },
  {
   "cell_type": "code",
   "execution_count": 35,
   "metadata": {},
   "outputs": [],
   "source": [
    "def output_volume(input_size, pad, filter_size, stride=1):\n",
    "    padh, padw = pad\n",
    "    h_i, w_i = input_size\n",
    "    h = int((h_i + 2*padh - filter_size) / stride + 1)\n",
    "    w = int((w_i + 2*padw - filter_size) / stride + 1)\n",
    "    return h, w"
   ]
  },
  {
   "cell_type": "code",
   "execution_count": 36,
   "metadata": {},
   "outputs": [
    {
     "data": {
      "text/plain": [
       "(32, 32)"
      ]
     },
     "execution_count": 36,
     "metadata": {},
     "output_type": "execute_result"
    }
   ],
   "source": [
    "output_volume((32, 32), (1,1), 3, 1)"
   ]
  },
  {
   "cell_type": "code",
   "execution_count": 66,
   "metadata": {
    "collapsed": true
   },
   "outputs": [],
   "source": [
    "def pad_to_same(input_size, filter_size, stride):\n",
    "    h, w = input_size\n",
    "    \n",
    "    padh = np.ceil((stride*(h-1)+filter_size-h)/2)\n",
    "    padw = np.ceil((stride*(w-1)+filter_size-w)/2)\n",
    "    \n",
    "    return padh, padw"
   ]
  },
  {
   "cell_type": "code",
   "execution_count": 67,
   "metadata": {},
   "outputs": [
    {
     "data": {
      "text/plain": [
       "(19.0, 19.0)"
      ]
     },
     "execution_count": 67,
     "metadata": {},
     "output_type": "execute_result"
    }
   ],
   "source": [
    "pad_to_same((32, 32), 7, 2)"
   ]
  },
  {
   "cell_type": "code",
   "execution_count": 72,
   "metadata": {},
   "outputs": [
    {
     "name": "stdout",
     "output_type": "stream",
     "text": [
      "(32, 32)\n",
      "(32, 32)\n",
      "(32, 32)\n"
     ]
    }
   ],
   "source": [
    "pad = pad_to_same((32, 32), 3, 1)\n",
    "print (output_volume((32, 32), pad, 3, 1))\n",
    "\n",
    "pad = pad_to_same((32, 32), 7, 1)\n",
    "print (output_volume((32, 32), pad, 7, 1))\n",
    "\n",
    "pad = pad_to_same((32, 32), 21, 1)\n",
    "print (output_volume((32, 32), pad, 21, 1))"
   ]
  },
  {
   "cell_type": "code",
   "execution_count": null,
   "metadata": {
    "collapsed": true
   },
   "outputs": [],
   "source": []
  }
 ],
 "metadata": {
  "kernelspec": {
   "display_name": "Python 3",
   "language": "python",
   "name": "python3"
  },
  "language_info": {
   "codemirror_mode": {
    "name": "ipython",
    "version": 3
   },
   "file_extension": ".py",
   "mimetype": "text/x-python",
   "name": "python",
   "nbconvert_exporter": "python",
   "pygments_lexer": "ipython3",
   "version": "3.6.3"
  }
 },
 "nbformat": 4,
 "nbformat_minor": 2
}
